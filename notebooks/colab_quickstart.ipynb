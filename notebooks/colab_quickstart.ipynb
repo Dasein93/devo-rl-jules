{
  "cells": [
    {
      "cell_type": "markdown",
      "metadata": {},
      "source": [
        "# Colab Quickstart\n",
        "Run the PPO baseline on PettingZoo MPE `simple_tag_v3` and show the learning curve.\n"
      ]
    },
    {
      "cell_type": "code",
      "metadata": {},
      "outputs": [],
      "execution_count": null,
      "source": [
        "!git clone https://github.com/Dasein93/devo-rl-jules.git && cd devo-rl-jules || cd devo-rl-jules\n",
        "%cd devo-rl-jules"
      ]
    },
    {
      "cell_type": "code",
      "metadata": {},
      "outputs": [],
      "execution_count": null,
      "source": [
        "!pip install -r requirements.txt"
      ]
    },
    {
      "cell_type": "code",
      "metadata": {},
      "outputs": [],
      "execution_count": null,
      "source": [
        "!python run_cpu.py --config configs/base.yaml --episodes 50 --save_dir artifacts/"
      ]
    },
    {
      "cell_type": "code",
      "metadata": {},
      "outputs": [],
      "execution_count": null,
      "source": [
        "import glob\n",
        "from IPython.display import Image, display\n",
        "pngs = sorted(glob.glob(\"artifacts/*/plots/return.png\"))\n",
        "print(\"Plot:\", pngs[-1] if pngs else \"NOT FOUND\")\n",
        "display(Image(filename=pngs[-1])) if pngs else None"
      ]
    }
  ],
  "metadata": {
    "colab": {
      "name": "colab_quickstart.ipynb"
    },
    "kernelspec": {
      "display_name": "Python 3",
      "language": "python",
      "name": "python3"
    },
    "language_info": {
      "name": "python",
      "version": "3.x"
    }
  },
  "nbformat": 4,
  "nbformat_minor": 5
}